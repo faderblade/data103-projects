{
 "cells": [
  {
   "cell_type": "code",
   "execution_count": 1,
   "metadata": {},
   "outputs": [],
   "source": [
    "import pandas as pd \n",
    "import numpy as np\n",
    "import functools\n",
    "import os\n"
   ]
  },
  {
   "cell_type": "markdown",
   "metadata": {},
   "source": [
    "## Data Wrangling"
   ]
  },
  {
   "cell_type": "markdown",
   "metadata": {},
   "source": [
    "### Load Data"
   ]
  },
  {
   "cell_type": "code",
   "execution_count": 2,
   "metadata": {},
   "outputs": [],
   "source": [
    "data_path = \"../data/\"\n",
    "\n",
    "ghg_mtco2 = pd.read_csv(os.path.join(data_path, \"ghg_mtco2.csv\"))\n",
    "ghg_pergdp = pd.read_csv(os.path.join(data_path, \"ghg_pergdp.csv\"))\n",
    "gdp_percapita = pd.read_csv(os.path.join(data_path, \"gdp.csv\"), \n",
    "                            header=2)\n",
    "population = pd.read_csv(os.path.join(data_path, \"population.csv\"), \n",
    "                         header=2)\n",
    "per_capita_energysource = pd.read_csv(os.path.join(data_path, \"per_capita_energysource.csv\"))\n",
    "cumulative_prod = pd.read_csv(os.path.join(data_path, \"cumulative_prod.csv\")) "
   ]
  },
  {
   "cell_type": "markdown",
   "metadata": {},
   "source": [
    "### Extract Countries of Interest"
   ]
  },
  {
   "cell_type": "code",
   "execution_count": 3,
   "metadata": {},
   "outputs": [],
   "source": [
    "# init country list\n",
    "countries_of_interest = [\"Canada\", \"Japan\", \"France\", \"Germany\", \"Italy\", \"United States\", \"United Kingdom\", # G7 \n",
    "                         \"China\", \"India\", \"Indonesia\", \"Brazil\", \"Iran\", \"Mexico\", \"South Africa\"] # Dev 7\n",
    "\n",
    "# ensure country names are consistent\n",
    "gdp_percapita = gdp_percapita.replace(to_replace=\"Iran, Islamic Rep.\", value=\"Iran\")\n",
    "population = population.replace(to_replace=\"Iran, Islamic Rep.\", value=\"Iran\")\n",
    "\n",
    "# extract\n",
    "ghg_mtco2 = ghg_mtco2.loc[ghg_mtco2[\"Country/Region\"].isin(countries_of_interest)]\n",
    "ghg_pergdp = ghg_pergdp.loc[ghg_pergdp[\"Country/Region\"].isin(countries_of_interest)]\n",
    "gdp_percapita = gdp_percapita.loc[gdp_percapita[\"Country Name\"].isin(countries_of_interest)]\n",
    "population = population.loc[population[\"Country Name\"].isin(countries_of_interest)]\n",
    "per_capita_energysource = per_capita_energysource.loc[per_capita_energysource[\"Entity\"].isin(countries_of_interest)]\n",
    "cumulative_prod = cumulative_prod.loc[cumulative_prod[\"country\"].isin(countries_of_interest)]"
   ]
  },
  {
   "cell_type": "markdown",
   "metadata": {},
   "source": [
    "### Drop Unnecessary Columns and Dates\n",
    "\n",
    "We are only concerned with values ranging from 1990 to 2018."
   ]
  },
  {
   "cell_type": "code",
   "execution_count": 4,
   "metadata": {},
   "outputs": [],
   "source": [
    "# drop unnecessary features\n",
    "ghg_mtco2 = ghg_mtco2.drop(columns=[\"unit\"])\n",
    "ghg_pergdp = ghg_pergdp.drop(columns=[\"unit\"])\n",
    "gdp_percapita = gdp_percapita.drop(columns=[\"Country Code\", \"Indicator Name\", \n",
    "                                            \"Indicator Code\", \"Unnamed: 65\"])\n",
    "population = population.drop(columns=[\"Country Code\", \"Indicator Name\", \n",
    "                                            \"Indicator Code\", \"Unnamed: 65\"])\n",
    "per_capita_energysource = per_capita_energysource.drop(columns=[\"Code\"])\n",
    "cumulative_prod = cumulative_prod.loc[:, [\"country\", \"year\", \n",
    "                                          \"cumulative_oil_co2\", \"cumulative_gas_co2\",\n",
    "                                          \"cumulative_flaring_co2\", \"cumulative_coal_co2\",\n",
    "                                          \"cumulative_cement_co2\"]]\n"
   ]
  },
  {
   "cell_type": "code",
   "execution_count": 5,
   "metadata": {},
   "outputs": [],
   "source": [
    "# Since the impetus for this project is Fixed Effects regression\n",
    "# We want our data to be annual independent of its previous sample\n",
    "# Hence, we convert cumulative data to yearly\n",
    "\n",
    "def cumulative_to_annual(data):\n",
    "    return data.transform(lambda sample: sample.sub(sample.shift().fillna(0)))\n",
    "\n",
    "cumulative_prod.iloc[:, 2:] = cumulative_to_annual(cumulative_prod.iloc[:, 2:])"
   ]
  },
  {
   "cell_type": "code",
   "execution_count": 6,
   "metadata": {},
   "outputs": [],
   "source": [
    "# drop dates outside of scope i.e. not 1990-2018\n",
    "\n",
    "# columns\n",
    "x_dates = np.append(np.arange(1960, 1990), np.array([2019, 2020])).flatten()\n",
    "x_dates = [str(date) for date in x_dates]\n",
    "\n",
    "gdp_percapita = gdp_percapita.drop(columns=x_dates)\n",
    "population = population.drop(columns=x_dates)\n",
    "\n",
    "# indices\n",
    "pces_idx = per_capita_energysource[(per_capita_energysource[\"Year\"]<1990) | (per_capita_energysource[\"Year\"]>2018)].index\n",
    "cp_idx = cumulative_prod[(cumulative_prod[\"year\"]<1990) | (cumulative_prod[\"year\"]>2018)].index\n",
    "\n",
    "per_capita_energysource = per_capita_energysource.drop(index=pces_idx)\n",
    "cumulative_prod = cumulative_prod.drop(index=cp_idx)"
   ]
  },
  {
   "cell_type": "code",
   "execution_count": 7,
   "metadata": {},
   "outputs": [],
   "source": [
    "# for some reason there are \"false\" string values in the encoded data for Iran\n",
    "# we replace them with NaNs \n",
    "ghg_pergdp = ghg_pergdp.replace(\"false\", np.nan)"
   ]
  },
  {
   "cell_type": "markdown",
   "metadata": {},
   "source": [
    "### Format/ensure countries and dates into columns\n",
    "\n",
    "The most crucial part. Most of the datasets uses the dates as columns, and countries as samples. We have to convert it to **tidy** format such that each column is a variable and each row is an observation. We also use the country and year as index, so as to follow the panel data format."
   ]
  },
  {
   "cell_type": "code",
   "execution_count": 8,
   "metadata": {},
   "outputs": [],
   "source": [
    "def stack_reset_and_rename(df, index_col=None, feature_name=None, to_format=True, to_rename=True):\n",
    "    if to_format:\n",
    "        df = df.set_index(index_col)\n",
    "        df = df.stack().reset_index()\n",
    "        \n",
    "    if to_rename:\n",
    "        df.columns = [\"Country\", \"Year\", feature_name]\n",
    "    \n",
    "    # ensure year has consistent data types\n",
    "    # to avoid errors in merging \n",
    "    df[\"Year\"] = pd.to_datetime(df[\"Year\"], format=\"%Y\")\n",
    "    df[\"Year\"] = pd.DatetimeIndex(df[\"Year\"]).year\n",
    "    # sort values by country and year\n",
    "    df = df.sort_values(by=[\"Country\", \"Year\"])\n",
    "    df = df.set_index([\"Country\", \"Year\"])\n",
    "    # cast numerical values to float 32\n",
    "    df = df.astype(dtype=np.float32)\n",
    "    return df\n",
    "\n",
    "# ensure same country and year column names\n",
    "# fo simplify queries in the stack_reset_and_rename func\n",
    "per_capita_energysource = per_capita_energysource.rename(columns={\"Entity\": \"Country\"})\n",
    "cumulative_prod = cumulative_prod.rename(columns={\"country\": \"Country\", \n",
    "                                                  \"year\": \"Year\"})\n",
    "\n",
    "# format\n",
    "ghg_mtco2 = stack_reset_and_rename(ghg_mtco2, \"Country/Region\", \"ghg_mtco2\")\n",
    "ghg_pergdp = stack_reset_and_rename(ghg_pergdp, \"Country/Region\", \"ghg_pergdp\")\n",
    "gdp_percapita = stack_reset_and_rename(gdp_percapita, \"Country Name\", \"gdp_percapita\")\n",
    "population = stack_reset_and_rename(population, \"Country Name\", \"population\")\n",
    "# per_capita_energysource has more than 1 column we want to rename\n",
    "# we'll just do it manually\n",
    "per_capita_energysource = stack_reset_and_rename(per_capita_energysource, \n",
    "                                                 to_rename=False,\n",
    "                                                 to_format=False)\n",
    "per_capita_energysource.columns = [\"fossilfuels_percapita\", \"nuclear_percapita\",\n",
    "                                   \"renewables_percapita\"]\n",
    "# Also, due to our changing of the cumulative features to annual\n",
    "# we also have to rename the columns in cumulative prod\n",
    "cumulative_prod = stack_reset_and_rename(cumulative_prod, to_format=False, \n",
    "                                         to_rename=False)\n",
    "cumulative_prod.columns = [\"yearly_oil_co2\", \"yearly_gas_co2\", \"yearly_flaring_co2\", \n",
    "                           \"yearly_coal_co2\", \"yearly_cement_co2\"]"
   ]
  },
  {
   "cell_type": "markdown",
   "metadata": {},
   "source": [
    "### Unify to one big dataset"
   ]
  },
  {
   "cell_type": "code",
   "execution_count": 9,
   "metadata": {},
   "outputs": [],
   "source": [
    "data_frames = [ghg_mtco2, ghg_pergdp, gdp_percapita, population, per_capita_energysource, cumulative_prod]\n",
    "\n",
    "model_data = functools.reduce(lambda  left,right: pd.merge(left,right,on=[\"Country\", \"Year\"],\n",
    "                                                           how='outer').astype(np.float32), data_frames)\n",
    "\n",
    "# save data for later use\n",
    "model_data.to_csv(os.path.join(data_path, \"model_data.csv\"))"
   ]
  },
  {
   "cell_type": "code",
   "execution_count": 10,
   "metadata": {},
   "outputs": [
    {
     "name": "stdout",
     "output_type": "stream",
     "text": [
      "Python implementation: CPython\n",
      "Python version       : 3.9.7\n",
      "IPython version      : 7.28.0\n",
      "\n",
      "pandas: 1.3.4\n",
      "numpy : 1.20.3\n",
      "sys   : 3.9.7 | packaged by conda-forge | (default, Sep 29 2021, 19:15:42) [MSC v.1916 64 bit (AMD64)]\n",
      "\n"
     ]
    }
   ],
   "source": [
    "%load_ext watermark\n",
    "%watermark -v -iv "
   ]
  }
 ],
 "metadata": {
  "interpreter": {
   "hash": "516a21269bd4416863f014a240bcefd9e35afabf45874aaa4ec1823ab57d92ba"
  },
  "kernelspec": {
   "display_name": "Python 3",
   "language": "python",
   "name": "python3"
  },
  "language_info": {
   "codemirror_mode": {
    "name": "ipython",
    "version": 3
   },
   "file_extension": ".py",
   "mimetype": "text/x-python",
   "name": "python",
   "nbconvert_exporter": "python",
   "pygments_lexer": "ipython3",
   "version": "3.9.7"
  }
 },
 "nbformat": 4,
 "nbformat_minor": 4
}
