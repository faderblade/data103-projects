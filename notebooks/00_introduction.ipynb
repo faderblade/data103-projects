{
 "cells": [
  {
   "cell_type": "markdown",
   "metadata": {},
   "source": [
    "# *The road to Emissions Regression:* Identifying Challenges and Opportunities Towards Climate Mitigation\n",
    "\n",
    "\n",
    "**Members**: \n",
    "\n",
    "ESQUILLO, Vince\n",
    "\n",
    "QUIRAPAS, Andre \n",
    "\n",
    "SAGRIT, Rina\n",
    "\n",
    "VILLALON, Marife"
   ]
  },
  {
   "cell_type": "markdown",
   "metadata": {},
   "source": [
    "## Introduction"
   ]
  },
  {
   "cell_type": "markdown",
   "metadata": {},
   "source": [
    "Climate change is one of the most pressing problems in the world. In 2019, CO2 emissions peaked by 36.7 billion tons in a span of 20 years (Ritchie & Roser, 2020). The\n",
    "world is currently 1.0°C degrees warmer than pre-industrial levels, and is currently on\n",
    "track to becoming 1.5°C degrees warmer between 2032 and 2050 (IPCC, 2018). It is\n",
    "therefore imperative that countries around the world reduce their greenhouse gas (GHG)\n",
    "emissions to mitigate the risks associated with climate change. However, mitigating\n",
    "humanity’s impact on climate is a very challenging issue because it is inherently tied to\n",
    "economic, demographic, and technological issues. For instance, there are fears that\n",
    "decarbonization may slow down the economic growth of nations. This is illustrated by Zhao\n",
    "et. al. (2016), who argued that carbon emissions from China and the United States were\n",
    "heavily attributed to the growing demand for manufacturing activities especially in textile\n",
    "products, electrical machinery, and transport equipment. Thus, to prescribe proper\n",
    "solutions towards climate change mitigation, policymakers will have to understand the\n",
    "impact of economic, technological, and demographic issues that may collide with the global\n",
    "goal of decarbonization.\n",
    "\n",
    "Hence, this project will attempt to do the following: \n",
    "\n",
    "1. Analyze the relationship between CO2 emissions and different factors using\n",
    "regression models in machine learning\n",
    "2. Evaluate and compare different regression models in terms of performance metrics to be used\n",
    "3. Identify which factors contribute in increasing CO2 emissions\n",
    "\n",
    "It is worth noting that this project is a **Regression Task**. "
   ]
  },
  {
   "cell_type": "markdown",
   "metadata": {},
   "source": [
    "## Data and Features"
   ]
  },
  {
   "cell_type": "markdown",
   "metadata": {},
   "source": [
    "The **dependent\n",
    "variable** would be the volume of **Kyoto GHG emissions**, and the **independent variables**\n",
    "would be **GDP Per Capita**, **Population**, **per capita energy consumption from fossil fuels**,\n",
    "**renewables**, and **nuclear energy**, and **cumulative production** from five selected carbon\n",
    "intensive sectors.\n",
    "\n",
    "It is also worth noting that **separate modelling will be done for G7 and Developing 7 countries**. Hence, two modelling efforts will be in this project."
   ]
  },
  {
   "cell_type": "markdown",
   "metadata": {},
   "source": [
    "## List of Requirements"
   ]
  },
  {
   "cell_type": "markdown",
   "metadata": {},
   "source": [
    "The requirements for this project are as follows:\n",
    "\n",
    "``` \n",
    "Python implementation: CPython\n",
    "Python version       : 3.9.7\n",
    "IPython version      : 7.28.0\n",
    "\n",
    "pandas: 1.3.4\n",
    "numpy : 1.20.3\n",
    "matplotlib: 3.4.3\n",
    "seaborn   : 0.11.2\n",
    "sklearn   : 1.0\n",
    "scipy     : 1.7.1\n",
    "linearmodels: 4.24\n",
    "shap        : 0.40.0 \n",
    "```\n"
   ]
  },
  {
   "cell_type": "markdown",
   "metadata": {},
   "source": [
    "For ease of use, the following text can be saved as a `.yml` file to create a conda environment \n",
    "\n",
    "```\n",
    "name: ghg_project\n",
    "dependencies: \n",
    "    - python=3.9.7\n",
    "    - ipython=7.28.0 \n",
    "    - pandas=1.3.4\n",
    "    - numpy=1.20.3\n",
    "    - matplotlib=3.4.3 \n",
    "    - seaborn=0.11.2\n",
    "    - sklearn=1.0 \n",
    "    - scipy=1.7.1 \n",
    "    - linearmodels=4.24\n",
    "    - shap=0.40.0\n",
    "```"
   ]
  },
  {
   "cell_type": "markdown",
   "metadata": {},
   "source": [
    "For the files, this project will be submitted with all the directories such that it will be easier to run everything."
   ]
  },
  {
   "cell_type": "markdown",
   "metadata": {},
   "source": [
    "## Notebook File Guide"
   ]
  },
  {
   "cell_type": "markdown",
   "metadata": {},
   "source": [
    "- `01_data_wrangling.ipynb` contains the data wrangling process of the project. \n",
    "\n",
    "    > This is where countries and features of interest were extracted from the datasets, and the data were all converted to *tidy format*.<br><br>\n",
    "    \n",
    "- `02_eda.ipynb` contains the exploratory data analysis of the project.\n",
    "\n",
    "    > This notebook basically explores the difference between the G7 and 7 Developing countries. It also contains both Quantative-Quantitative and Categorical-Quantitative Analysis.<br><br>\n",
    "\n",
    "- `03_preprocessing.ipynb` contains data imputation, standard scaling.\n",
    "\n",
    "    > This notebook contains the rationale for each imputation method, and investigations on the nature of the missing data. <br><br>\n",
    "    \n",
    "\n",
    "- `04a_g7_modelling.ipynb` and `04b_dev7_modelling.ipynb` are the modelling and insights notebooks.\n",
    "\n",
    "    > These notebooks contain the use of an econometric model, machine learning approaches with feature selection, gridsearch, and model interpretation with `SHAP`\n"
   ]
  },
  {
   "cell_type": "markdown",
   "metadata": {},
   "source": [
    "## Sources"
   ]
  },
  {
   "cell_type": "markdown",
   "metadata": {},
   "source": [
    "IPCC. (2018). Summary for policymakers. In Global warming of 1.5°C (pp. 3-26). Geneva,\n",
    "Switzerland: World Meteorological Organization.\n",
    "\n",
    "Ritchie, H., & Roser, M. (2020). CO₂ and greenhouse gas emissions. Our world in data.\n",
    "\n",
    "Zhao, Y., Wang, S., Zhang, Z., Liu, Y., & Ahmad, A. (2016). Driving factors of carbon\n",
    "emissions embodied in China–US trade: a structural decomposition analysis. Journal\n",
    "of Cleaner Production, 131, 678-689."
   ]
  }
 ],
 "metadata": {
  "interpreter": {
   "hash": "516a21269bd4416863f014a240bcefd9e35afabf45874aaa4ec1823ab57d92ba"
  },
  "kernelspec": {
   "display_name": "Python 3",
   "language": "python",
   "name": "python3"
  },
  "language_info": {
   "codemirror_mode": {
    "name": "ipython",
    "version": 3
   },
   "file_extension": ".py",
   "mimetype": "text/x-python",
   "name": "python",
   "nbconvert_exporter": "python",
   "pygments_lexer": "ipython3",
   "version": "3.9.7"
  }
 },
 "nbformat": 4,
 "nbformat_minor": 4
}
